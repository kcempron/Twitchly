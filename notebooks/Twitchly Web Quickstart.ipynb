{
 "cells": [
  {
   "cell_type": "markdown",
   "metadata": {},
   "source": [
    "# Twitchly Web QuickStart\n",
    "The purpose of this notebook is to get yourself familiar with accessing our web page locally.\n",
    "\n",
    "## Environment Set Up\n",
    "Our web page currently makes API calls to twitch using a Python twitch library so you will also need to have this library readily available. To do so, on your terminal, run `pip install python-twitch-client`.\n",
    "\n",
    "Now, you will want to go into the Twitchly repository if you have already cloned it locally. If you don't have it yet,\n",
    "you can do the following:\n",
    "- On your terminal do `cd ~` which will bring you to your home directory.\n",
    "- run `git clone https://github.com/kcempron/Twitchly.git`. this will copy the project into your local machine.\n",
    "\n",
    "## Accessing the Web Page\n",
    "Now that you have the project, you will want to go to the `/web` directory which will contain various files that are\n",
    "used to generate and run our web page. Once in the `/web` directory, you will want to run the following:\n",
    "`python app.py` (Note: your Python command may not be `python` but something like `py` or `python3` or `py3`).\n",
    "It will look like nothing is happening which is fine.\n",
    "\n",
    "What you will want to do now is open up your preferred web browser and type in `localhost:8000`.\n",
    "You should now have the site open! Feel free to play around with the page and also look at all the cool frontend\n",
    "template stuff. Just make sure to go on a different git branch in case you want to make some experimental changes."
   ]
  },
  {
   "cell_type": "code",
   "execution_count": null,
   "metadata": {},
   "outputs": [],
   "source": []
  }
 ],
 "metadata": {
  "kernelspec": {
   "display_name": "Python 3",
   "language": "python",
   "name": "python3"
  },
  "language_info": {
   "codemirror_mode": {
    "name": "ipython",
    "version": 3
   },
   "file_extension": ".py",
   "mimetype": "text/x-python",
   "name": "python",
   "nbconvert_exporter": "python",
   "pygments_lexer": "ipython3",
   "version": "3.6.5"
  }
 },
 "nbformat": 4,
 "nbformat_minor": 2
}
