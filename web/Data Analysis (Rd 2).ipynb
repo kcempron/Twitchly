{
 "cells": [
  {
   "cell_type": "code",
   "execution_count": 1,
   "metadata": {
    "collapsed": true
   },
   "outputs": [],
   "source": [
    "import pandas as pd\n",
    "import numpy as np\n",
    "from twitch import TwitchClient\n",
    "import twitchly_db"
   ]
  },
  {
   "cell_type": "code",
   "execution_count": 10,
   "metadata": {},
   "outputs": [
    {
     "data": {
      "text/html": [
       "<div>\n",
       "<style>\n",
       "    .dataframe thead tr:only-child th {\n",
       "        text-align: right;\n",
       "    }\n",
       "\n",
       "    .dataframe thead th {\n",
       "        text-align: left;\n",
       "    }\n",
       "\n",
       "    .dataframe tbody tr th {\n",
       "        vertical-align: top;\n",
       "    }\n",
       "</style>\n",
       "<table border=\"1\" class=\"dataframe\">\n",
       "  <thead>\n",
       "    <tr style=\"text-align: right;\">\n",
       "      <th></th>\n",
       "      <th>user_id</th>\n",
       "      <th>channel_info</th>\n",
       "    </tr>\n",
       "  </thead>\n",
       "  <tbody>\n",
       "    <tr>\n",
       "      <th>0</th>\n",
       "      <td>268234051</td>\n",
       "      <td>{'mature': False, 'status': '!CUBE IN CHAT FOR...</td>\n",
       "    </tr>\n",
       "    <tr>\n",
       "      <th>1</th>\n",
       "      <td>268234051</td>\n",
       "      <td>{'mature': False, 'status': 'Morning stream on...</td>\n",
       "    </tr>\n",
       "    <tr>\n",
       "      <th>2</th>\n",
       "      <td>268234051</td>\n",
       "      <td>{'mature': True, 'status': 'Practice with VicV...</td>\n",
       "    </tr>\n",
       "    <tr>\n",
       "      <th>3</th>\n",
       "      <td>268234051</td>\n",
       "      <td>{'mature': False, 'status': 'SUB GAMES.. Drunk...</td>\n",
       "    </tr>\n",
       "    <tr>\n",
       "      <th>4</th>\n",
       "      <td>268234051</td>\n",
       "      <td>{'mature': False, 'status': 'High Kill Solos',...</td>\n",
       "    </tr>\n",
       "  </tbody>\n",
       "</table>\n",
       "</div>"
      ],
      "text/plain": [
       "     user_id                                       channel_info\n",
       "0  268234051  {'mature': False, 'status': '!CUBE IN CHAT FOR...\n",
       "1  268234051  {'mature': False, 'status': 'Morning stream on...\n",
       "2  268234051  {'mature': True, 'status': 'Practice with VicV...\n",
       "3  268234051  {'mature': False, 'status': 'SUB GAMES.. Drunk...\n",
       "4  268234051  {'mature': False, 'status': 'High Kill Solos',..."
      ]
     },
     "execution_count": 10,
     "metadata": {},
     "output_type": "execute_result"
    }
   ],
   "source": [
    "user_channel_info = pd.read_csv('list_of_channels_followed_by_user.txt', delimiter='\\t', header=None)\n",
    "user_channel_info.columns = ['user_id', 'channel_info']\n",
    "user_channel_info.head()"
   ]
  },
  {
   "cell_type": "markdown",
   "metadata": {},
   "source": [
    "### Data in flat file is incomplete, need to be able to access channel_id\n",
    "\n",
    "Otherwise database would be filled with a bunch of channels that nobody follows (channels associated with followers not streamers)"
   ]
  },
  {
   "cell_type": "code",
   "execution_count": 11,
   "metadata": {
    "collapsed": true
   },
   "outputs": [],
   "source": [
    "import re"
   ]
  },
  {
   "cell_type": "code",
   "execution_count": 12,
   "metadata": {},
   "outputs": [
    {
     "ename": "AttributeError",
     "evalue": "'NoneType' object has no attribute 'group'",
     "output_type": "error",
     "traceback": [
      "\u001b[1;31m---------------------------------------------------------------------------\u001b[0m",
      "\u001b[1;31mAttributeError\u001b[0m                            Traceback (most recent call last)",
      "\u001b[1;32m<ipython-input-12-b7045735cf29>\u001b[0m in \u001b[0;36m<module>\u001b[1;34m()\u001b[0m\n\u001b[0;32m      6\u001b[0m \u001b[1;33m\u001b[0m\u001b[0m\n\u001b[0;32m      7\u001b[0m \u001b[0muser_channel_info\u001b[0m\u001b[1;33m[\u001b[0m\u001b[1;34m'channel_id'\u001b[0m\u001b[1;33m]\u001b[0m \u001b[1;33m=\u001b[0m \u001b[0muser_channel_info\u001b[0m\u001b[1;33m[\u001b[0m\u001b[1;34m'channel_info'\u001b[0m\u001b[1;33m]\u001b[0m\u001b[1;33m.\u001b[0m\u001b[0mapply\u001b[0m\u001b[1;33m(\u001b[0m\u001b[0mget_channel_id\u001b[0m\u001b[1;33m)\u001b[0m\u001b[1;33m\u001b[0m\u001b[0m\n\u001b[1;32m----> 8\u001b[1;33m \u001b[0muser_channel_info\u001b[0m\u001b[1;33m[\u001b[0m\u001b[1;34m'followers'\u001b[0m\u001b[1;33m]\u001b[0m \u001b[1;33m=\u001b[0m \u001b[0muser_channel_info\u001b[0m\u001b[1;33m[\u001b[0m\u001b[1;34m'channel_info'\u001b[0m\u001b[1;33m]\u001b[0m\u001b[1;33m.\u001b[0m\u001b[0mapply\u001b[0m\u001b[1;33m(\u001b[0m\u001b[0mget_follower_count\u001b[0m\u001b[1;33m)\u001b[0m\u001b[1;33m\u001b[0m\u001b[0m\n\u001b[0m",
      "\u001b[1;32m~\\Anaconda3\\lib\\site-packages\\pandas\\core\\series.py\u001b[0m in \u001b[0;36mapply\u001b[1;34m(self, func, convert_dtype, args, **kwds)\u001b[0m\n\u001b[0;32m   2353\u001b[0m             \u001b[1;32melse\u001b[0m\u001b[1;33m:\u001b[0m\u001b[1;33m\u001b[0m\u001b[0m\n\u001b[0;32m   2354\u001b[0m                 \u001b[0mvalues\u001b[0m \u001b[1;33m=\u001b[0m \u001b[0mself\u001b[0m\u001b[1;33m.\u001b[0m\u001b[0masobject\u001b[0m\u001b[1;33m\u001b[0m\u001b[0m\n\u001b[1;32m-> 2355\u001b[1;33m                 \u001b[0mmapped\u001b[0m \u001b[1;33m=\u001b[0m \u001b[0mlib\u001b[0m\u001b[1;33m.\u001b[0m\u001b[0mmap_infer\u001b[0m\u001b[1;33m(\u001b[0m\u001b[0mvalues\u001b[0m\u001b[1;33m,\u001b[0m \u001b[0mf\u001b[0m\u001b[1;33m,\u001b[0m \u001b[0mconvert\u001b[0m\u001b[1;33m=\u001b[0m\u001b[0mconvert_dtype\u001b[0m\u001b[1;33m)\u001b[0m\u001b[1;33m\u001b[0m\u001b[0m\n\u001b[0m\u001b[0;32m   2356\u001b[0m \u001b[1;33m\u001b[0m\u001b[0m\n\u001b[0;32m   2357\u001b[0m         \u001b[1;32mif\u001b[0m \u001b[0mlen\u001b[0m\u001b[1;33m(\u001b[0m\u001b[0mmapped\u001b[0m\u001b[1;33m)\u001b[0m \u001b[1;32mand\u001b[0m \u001b[0misinstance\u001b[0m\u001b[1;33m(\u001b[0m\u001b[0mmapped\u001b[0m\u001b[1;33m[\u001b[0m\u001b[1;36m0\u001b[0m\u001b[1;33m]\u001b[0m\u001b[1;33m,\u001b[0m \u001b[0mSeries\u001b[0m\u001b[1;33m)\u001b[0m\u001b[1;33m:\u001b[0m\u001b[1;33m\u001b[0m\u001b[0m\n",
      "\u001b[1;32mpandas/_libs/src\\inference.pyx\u001b[0m in \u001b[0;36mpandas._libs.lib.map_infer\u001b[1;34m()\u001b[0m\n",
      "\u001b[1;32m<ipython-input-12-b7045735cf29>\u001b[0m in \u001b[0;36mget_follower_count\u001b[1;34m(c_info)\u001b[0m\n\u001b[0;32m      3\u001b[0m \u001b[1;33m\u001b[0m\u001b[0m\n\u001b[0;32m      4\u001b[0m \u001b[1;32mdef\u001b[0m \u001b[0mget_follower_count\u001b[0m\u001b[1;33m(\u001b[0m\u001b[0mc_info\u001b[0m\u001b[1;33m)\u001b[0m\u001b[1;33m:\u001b[0m\u001b[1;33m\u001b[0m\u001b[0m\n\u001b[1;32m----> 5\u001b[1;33m     \u001b[1;32mreturn\u001b[0m \u001b[0mint\u001b[0m\u001b[1;33m(\u001b[0m\u001b[0mre\u001b[0m\u001b[1;33m.\u001b[0m\u001b[0msearch\u001b[0m\u001b[1;33m(\u001b[0m\u001b[1;34mr', \\'followers\\': \\'(\\d+)\\','\u001b[0m\u001b[1;33m,\u001b[0m \u001b[0mc_info\u001b[0m\u001b[1;33m)\u001b[0m\u001b[1;33m.\u001b[0m\u001b[0mgroup\u001b[0m\u001b[1;33m(\u001b[0m\u001b[1;36m1\u001b[0m\u001b[1;33m)\u001b[0m\u001b[1;33m)\u001b[0m\u001b[1;33m\u001b[0m\u001b[0m\n\u001b[0m\u001b[0;32m      6\u001b[0m \u001b[1;33m\u001b[0m\u001b[0m\n\u001b[0;32m      7\u001b[0m \u001b[0muser_channel_info\u001b[0m\u001b[1;33m[\u001b[0m\u001b[1;34m'channel_id'\u001b[0m\u001b[1;33m]\u001b[0m \u001b[1;33m=\u001b[0m \u001b[0muser_channel_info\u001b[0m\u001b[1;33m[\u001b[0m\u001b[1;34m'channel_info'\u001b[0m\u001b[1;33m]\u001b[0m\u001b[1;33m.\u001b[0m\u001b[0mapply\u001b[0m\u001b[1;33m(\u001b[0m\u001b[0mget_channel_id\u001b[0m\u001b[1;33m)\u001b[0m\u001b[1;33m\u001b[0m\u001b[0m\n",
      "\u001b[1;31mAttributeError\u001b[0m: 'NoneType' object has no attribute 'group'"
     ]
    }
   ],
   "source": [
    "def get_channel_id(c_info):\n",
    "    return int(re.search(r', \\'id\\': \\'(\\d+)\\',', c_info).group(1))\n",
    "\n",
    "def get_follower_count(c_info):\n",
    "    return int(re.search(r', \\'followers\\': \\'(\\d+)\\',', c_info).group(1))\n",
    "\n",
    "user_channel_info['channel_id'] = user_channel_info['channel_info'].apply(get_channel_id)\n",
    "user_channel_info['followers'] = user_channel_info['channel_info'].apply(get_follower_count)"
   ]
  },
  {
   "cell_type": "code",
   "execution_count": null,
   "metadata": {},
   "outputs": [],
   "source": [
    "user_channel_info.head()"
   ]
  },
  {
   "cell_type": "code",
   "execution_count": 6,
   "metadata": {},
   "outputs": [
    {
     "data": {
      "text/plain": [
       "185745"
      ]
     },
     "execution_count": 6,
     "metadata": {},
     "output_type": "execute_result"
    }
   ],
   "source": [
    "len(user_channel_info['channel_id'].unique())"
   ]
  },
  {
   "cell_type": "markdown",
   "metadata": {},
   "source": [
    "# Adding relevant channels to Twitchly DB"
   ]
  },
  {
   "cell_type": "code",
   "execution_count": 7,
   "metadata": {
    "collapsed": true
   },
   "outputs": [],
   "source": [
    "try:\n",
    "    db = twitchly_db.Database()\n",
    "except ValueError:\n",
    "    db = db"
   ]
  },
  {
   "cell_type": "code",
   "execution_count": 14,
   "metadata": {
    "collapsed": true
   },
   "outputs": [],
   "source": [
    "temp = user_channel_info['channel_id']\n",
    "responses = []"
   ]
  },
  {
   "cell_type": "code",
   "execution_count": 17,
   "metadata": {},
   "outputs": [
    {
     "name": "stdout",
     "output_type": "stream",
     "text": [
      "1999\r"
     ]
    }
   ],
   "source": [
    "scroll_length = 100\n",
    "\n",
    "sample_size = 10000\n",
    "scroll_idx = 0\n",
    "while scroll_idx < sample_size:\n",
    "    sample_series = temp[:scroll]\n",
    "    temp = temp[scroll:]\n",
    "    for idx, channel_id in enumerate(sample_series):\n",
    "        print(idx, end='\\r')\n",
    "        if channel_id:\n",
    "            response = db.get_user_info(channel_id)\n",
    "            if response:\n",
    "                responses.append(dict(response))\n",
    "    scroll_idx += scroll_length"
   ]
  },
  {
   "cell_type": "code",
   "execution_count": 18,
   "metadata": {},
   "outputs": [
    {
     "name": "stdout",
     "output_type": "stream",
     "text": [
      "48484279 29998 183 214 240 367 389420 452 474 537 543 565 569 613 617 637 640 656 685 767 863 890 961993 1000 1016 1065 1094 1164 1169 1269 1285 1459 1537 1582 1594 1625 1667 1706 1797 1827 1834 1888 1994 2007 2042 2152 2195 2201 2249 2259 2322 2327 2343 2466 2538 2557 2611 2694 2749 2890 2957\r"
     ]
    }
   ],
   "source": [
    "sample_size = 3000\n",
    "sample_series = temp[:sample_size]\n",
    "temp = temp[sample_size:]\n",
    "for idx, channel_id in enumerate(sample_series):\n",
    "    print(channel_id, idx, end='\\r')\n",
    "    if channel_id:\n",
    "        response = db.get_user_info(channel_id)\n",
    "        if response:\n",
    "            responses.append(dict(response))"
   ]
  },
  {
   "cell_type": "code",
   "execution_count": 25,
   "metadata": {},
   "outputs": [
    {
     "name": "stdout",
     "output_type": "stream",
     "text": [
      "37402112 49995147 174 199 320 379461 577 606 717 789 850 868 933 948 1069 1175 1203 1323 1341 1348 1379 1382 1386 1513 1548 1594 16671702 2063 2108 2522 2771 28213007 3070 3650 3652 3698 3761 4056 4112 4118 4217 4222 4254 4302 4451 4484 4562 4679 4855 4921\r"
     ]
    }
   ],
   "source": [
    "sample_size = 5000\n",
    "temp = user_channel_info['channel_id']\n",
    "sample_series = temp[:5000]\n",
    "temp = temp[5000:]\n",
    "for idx, channel_id in enumerate(sample_series):\n",
    "    print(channel_id, idx, end='\\r')\n",
    "    if channel_id:\n",
    "        response = db.get_user_info(channel_id)\n",
    "        if response:\n",
    "            responses.append(dict(response))"
   ]
  },
  {
   "cell_type": "code",
   "execution_count": 26,
   "metadata": {},
   "outputs": [
    {
     "data": {
      "text/html": [
       "<div>\n",
       "<style>\n",
       "    .dataframe thead tr:only-child th {\n",
       "        text-align: right;\n",
       "    }\n",
       "\n",
       "    .dataframe thead th {\n",
       "        text-align: left;\n",
       "    }\n",
       "\n",
       "    .dataframe tbody tr th {\n",
       "        vertical-align: top;\n",
       "    }\n",
       "</style>\n",
       "<table border=\"1\" class=\"dataframe\">\n",
       "  <thead>\n",
       "    <tr style=\"text-align: right;\">\n",
       "      <th></th>\n",
       "      <th>bio</th>\n",
       "      <th>broadcaster_language</th>\n",
       "      <th>broadcaster_software</th>\n",
       "      <th>broadcaster_type</th>\n",
       "      <th>created_at</th>\n",
       "      <th>description</th>\n",
       "      <th>distribution</th>\n",
       "      <th>followers</th>\n",
       "      <th>follows</th>\n",
       "      <th>game</th>\n",
       "      <th>...</th>\n",
       "      <th>privacy_options_enabled</th>\n",
       "      <th>private_video</th>\n",
       "      <th>profile_banner</th>\n",
       "      <th>profile_banner_background_color</th>\n",
       "      <th>status</th>\n",
       "      <th>type</th>\n",
       "      <th>updated_at</th>\n",
       "      <th>url</th>\n",
       "      <th>video_banner</th>\n",
       "      <th>views</th>\n",
       "    </tr>\n",
       "    <tr>\n",
       "      <th>display_name</th>\n",
       "      <th></th>\n",
       "      <th></th>\n",
       "      <th></th>\n",
       "      <th></th>\n",
       "      <th></th>\n",
       "      <th></th>\n",
       "      <th></th>\n",
       "      <th></th>\n",
       "      <th></th>\n",
       "      <th></th>\n",
       "      <th></th>\n",
       "      <th></th>\n",
       "      <th></th>\n",
       "      <th></th>\n",
       "      <th></th>\n",
       "      <th></th>\n",
       "      <th></th>\n",
       "      <th></th>\n",
       "      <th></th>\n",
       "      <th></th>\n",
       "      <th></th>\n",
       "    </tr>\n",
       "  </thead>\n",
       "  <tbody>\n",
       "    <tr>\n",
       "      <th>Ninja</th>\n",
       "      <td>Professional Battle Royale player. Follow my t...</td>\n",
       "      <td>en</td>\n",
       "      <td>unknown_rtmp</td>\n",
       "      <td>partner</td>\n",
       "      <td>2011-01-16 04:31:20</td>\n",
       "      <td>Professional Battle Royale player. Follow my t...</td>\n",
       "      <td>NaN</td>\n",
       "      <td>11884880</td>\n",
       "      <td>[128479231, 46386566, 214062798, 7054369, 3044...</td>\n",
       "      <td>Fortnite</td>\n",
       "      <td>...</td>\n",
       "      <td>False</td>\n",
       "      <td>False</td>\n",
       "      <td>https://static-cdn.jtvnw.net/jtv_user_pictures...</td>\n",
       "      <td>NaN</td>\n",
       "      <td>FOOTBALL SUNDAY | Pon Pon merch Live! Teamninj...</td>\n",
       "      <td>user</td>\n",
       "      <td>2018-10-21 18:22:26</td>\n",
       "      <td>https://www.twitch.tv/ninja</td>\n",
       "      <td>https://static-cdn.jtvnw.net/jtv_user_pictures...</td>\n",
       "      <td>354301250</td>\n",
       "    </tr>\n",
       "    <tr>\n",
       "      <th>shroud</th>\n",
       "      <td>Enjoy these highlights/vods, and remember to f...</td>\n",
       "      <td>en</td>\n",
       "      <td>unknown_rtmp</td>\n",
       "      <td>partner</td>\n",
       "      <td>2012-11-03 15:50:32</td>\n",
       "      <td>Enjoy these highlights/vods, and remember to f...</td>\n",
       "      <td>NaN</td>\n",
       "      <td>4681624</td>\n",
       "      <td>[29140917, 6978352, 132230344, 10406, 54165962...</td>\n",
       "      <td>Call of Duty: Black Ops 4</td>\n",
       "      <td>...</td>\n",
       "      <td>False</td>\n",
       "      <td>False</td>\n",
       "      <td>https://static-cdn.jtvnw.net/jtv_user_pictures...</td>\n",
       "      <td>NaN</td>\n",
       "      <td>#DoritosBowl Prac #ad  @shroud on socials</td>\n",
       "      <td>user</td>\n",
       "      <td>2018-10-25 20:27:52</td>\n",
       "      <td>https://www.twitch.tv/shroud</td>\n",
       "      <td>https://static-cdn.jtvnw.net/jtv_user_pictures...</td>\n",
       "      <td>226571889</td>\n",
       "    </tr>\n",
       "    <tr>\n",
       "      <th>TSM_Myth</th>\n",
       "      <td>Keep believing.</td>\n",
       "      <td>en</td>\n",
       "      <td>unknown_rtmp</td>\n",
       "      <td>partner</td>\n",
       "      <td>2015-12-27 19:23:58</td>\n",
       "      <td>Keep believing.</td>\n",
       "      <td>NaN</td>\n",
       "      <td>4440552</td>\n",
       "      <td>[70661496, 186356535, 161719481, 240936336, 16...</td>\n",
       "      <td>Fortnite</td>\n",
       "      <td>...</td>\n",
       "      <td>False</td>\n",
       "      <td>False</td>\n",
       "      <td>https://static-cdn.jtvnw.net/jtv_user_pictures...</td>\n",
       "      <td>#434343</td>\n",
       "      <td>Quick stream before Tcon || !Twitter : TSM_Myth</td>\n",
       "      <td>user</td>\n",
       "      <td>2018-10-25 20:03:08</td>\n",
       "      <td>https://www.twitch.tv/tsm_myth</td>\n",
       "      <td>https://static-cdn.jtvnw.net/jtv_user_pictures...</td>\n",
       "      <td>62085343</td>\n",
       "    </tr>\n",
       "    <tr>\n",
       "      <th>summit1g</th>\n",
       "      <td>I'm a competitive CounterStrike player who lik...</td>\n",
       "      <td>en</td>\n",
       "      <td>unknown_rtmp</td>\n",
       "      <td>partner</td>\n",
       "      <td>2011-12-01 06:33:31</td>\n",
       "      <td>I'm a competitive CounterStrike player who lik...</td>\n",
       "      <td>NaN</td>\n",
       "      <td>3320497</td>\n",
       "      <td>[134433708, 78219897, 26301881, 166841009, 126...</td>\n",
       "      <td>Call of Duty: Black Ops 4</td>\n",
       "      <td>...</td>\n",
       "      <td>False</td>\n",
       "      <td>False</td>\n",
       "      <td>https://static-cdn.jtvnw.net/jtv_user_pictures...</td>\n",
       "      <td>NaN</td>\n",
       "      <td>matchmaking, blackout, zombies, EVERYTHING  [ ...</td>\n",
       "      <td>user</td>\n",
       "      <td>2018-10-25 20:27:16</td>\n",
       "      <td>https://www.twitch.tv/summit1g</td>\n",
       "      <td>https://static-cdn.jtvnw.net/jtv_user_pictures...</td>\n",
       "      <td>245220630</td>\n",
       "    </tr>\n",
       "    <tr>\n",
       "      <th>Tfue</th>\n",
       "      <td>Watch Me Play VideoGames</td>\n",
       "      <td>en</td>\n",
       "      <td>unknown_rtmp</td>\n",
       "      <td>partner</td>\n",
       "      <td>2014-04-02 03:57:20</td>\n",
       "      <td>Watch Me Play VideoGames</td>\n",
       "      <td>NaN</td>\n",
       "      <td>3238391</td>\n",
       "      <td>[106941811, 145151151, 47229052, 130149086, 74...</td>\n",
       "      <td>Fortnite</td>\n",
       "      <td>...</td>\n",
       "      <td>False</td>\n",
       "      <td>False</td>\n",
       "      <td>https://static-cdn.jtvnw.net/jtv_user_pictures...</td>\n",
       "      <td>#ffffff</td>\n",
       "      <td>High Kill Solos</td>\n",
       "      <td>user</td>\n",
       "      <td>2018-10-21 18:19:35</td>\n",
       "      <td>https://www.twitch.tv/tfue</td>\n",
       "      <td>https://static-cdn.jtvnw.net/jtv_user_pictures...</td>\n",
       "      <td>47709889</td>\n",
       "    </tr>\n",
       "  </tbody>\n",
       "</table>\n",
       "<p>5 rows × 27 columns</p>\n",
       "</div>"
      ],
      "text/plain": [
       "                                                            bio  \\\n",
       "display_name                                                      \n",
       "Ninja         Professional Battle Royale player. Follow my t...   \n",
       "shroud        Enjoy these highlights/vods, and remember to f...   \n",
       "TSM_Myth                                        Keep believing.   \n",
       "summit1g      I'm a competitive CounterStrike player who lik...   \n",
       "Tfue                                   Watch Me Play VideoGames   \n",
       "\n",
       "             broadcaster_language broadcaster_software broadcaster_type  \\\n",
       "display_name                                                              \n",
       "Ninja                          en         unknown_rtmp          partner   \n",
       "shroud                         en         unknown_rtmp          partner   \n",
       "TSM_Myth                       en         unknown_rtmp          partner   \n",
       "summit1g                       en         unknown_rtmp          partner   \n",
       "Tfue                           en         unknown_rtmp          partner   \n",
       "\n",
       "                       created_at  \\\n",
       "display_name                        \n",
       "Ninja         2011-01-16 04:31:20   \n",
       "shroud        2012-11-03 15:50:32   \n",
       "TSM_Myth      2015-12-27 19:23:58   \n",
       "summit1g      2011-12-01 06:33:31   \n",
       "Tfue          2014-04-02 03:57:20   \n",
       "\n",
       "                                                    description distribution  \\\n",
       "display_name                                                                   \n",
       "Ninja         Professional Battle Royale player. Follow my t...          NaN   \n",
       "shroud        Enjoy these highlights/vods, and remember to f...          NaN   \n",
       "TSM_Myth                                        Keep believing.          NaN   \n",
       "summit1g      I'm a competitive CounterStrike player who lik...          NaN   \n",
       "Tfue                                   Watch Me Play VideoGames          NaN   \n",
       "\n",
       "              followers                                            follows  \\\n",
       "display_name                                                                 \n",
       "Ninja          11884880  [128479231, 46386566, 214062798, 7054369, 3044...   \n",
       "shroud          4681624  [29140917, 6978352, 132230344, 10406, 54165962...   \n",
       "TSM_Myth        4440552  [70661496, 186356535, 161719481, 240936336, 16...   \n",
       "summit1g        3320497  [134433708, 78219897, 26301881, 166841009, 126...   \n",
       "Tfue            3238391  [106941811, 145151151, 47229052, 130149086, 74...   \n",
       "\n",
       "                                   game    ...     privacy_options_enabled  \\\n",
       "display_name                               ...                               \n",
       "Ninja                          Fortnite    ...                       False   \n",
       "shroud        Call of Duty: Black Ops 4    ...                       False   \n",
       "TSM_Myth                       Fortnite    ...                       False   \n",
       "summit1g      Call of Duty: Black Ops 4    ...                       False   \n",
       "Tfue                           Fortnite    ...                       False   \n",
       "\n",
       "             private_video                                     profile_banner  \\\n",
       "display_name                                                                    \n",
       "Ninja                False  https://static-cdn.jtvnw.net/jtv_user_pictures...   \n",
       "shroud               False  https://static-cdn.jtvnw.net/jtv_user_pictures...   \n",
       "TSM_Myth             False  https://static-cdn.jtvnw.net/jtv_user_pictures...   \n",
       "summit1g             False  https://static-cdn.jtvnw.net/jtv_user_pictures...   \n",
       "Tfue                 False  https://static-cdn.jtvnw.net/jtv_user_pictures...   \n",
       "\n",
       "              profile_banner_background_color  \\\n",
       "display_name                                    \n",
       "Ninja                                     NaN   \n",
       "shroud                                    NaN   \n",
       "TSM_Myth                              #434343   \n",
       "summit1g                                  NaN   \n",
       "Tfue                                  #ffffff   \n",
       "\n",
       "                                                         status  type  \\\n",
       "display_name                                                            \n",
       "Ninja         FOOTBALL SUNDAY | Pon Pon merch Live! Teamninj...  user   \n",
       "shroud                #DoritosBowl Prac #ad  @shroud on socials  user   \n",
       "TSM_Myth        Quick stream before Tcon || !Twitter : TSM_Myth  user   \n",
       "summit1g      matchmaking, blackout, zombies, EVERYTHING  [ ...  user   \n",
       "Tfue                                            High Kill Solos  user   \n",
       "\n",
       "                       updated_at                             url  \\\n",
       "display_name                                                        \n",
       "Ninja         2018-10-21 18:22:26     https://www.twitch.tv/ninja   \n",
       "shroud        2018-10-25 20:27:52    https://www.twitch.tv/shroud   \n",
       "TSM_Myth      2018-10-25 20:03:08  https://www.twitch.tv/tsm_myth   \n",
       "summit1g      2018-10-25 20:27:16  https://www.twitch.tv/summit1g   \n",
       "Tfue          2018-10-21 18:19:35      https://www.twitch.tv/tfue   \n",
       "\n",
       "                                                   video_banner      views  \n",
       "display_name                                                                \n",
       "Ninja         https://static-cdn.jtvnw.net/jtv_user_pictures...  354301250  \n",
       "shroud        https://static-cdn.jtvnw.net/jtv_user_pictures...  226571889  \n",
       "TSM_Myth      https://static-cdn.jtvnw.net/jtv_user_pictures...   62085343  \n",
       "summit1g      https://static-cdn.jtvnw.net/jtv_user_pictures...  245220630  \n",
       "Tfue          https://static-cdn.jtvnw.net/jtv_user_pictures...   47709889  \n",
       "\n",
       "[5 rows x 27 columns]"
      ]
     },
     "execution_count": 26,
     "metadata": {},
     "output_type": "execute_result"
    }
   ],
   "source": [
    "channels_df = pd.DataFrame(responses)\n",
    "channels_df.set_index('display_name', inplace=True)\n",
    "channels_df.sort_values('followers', inplace=True, ascending=False)\n",
    "channels_df.drop_duplicates(subset=['id'], inplace=True)\n",
    "channels_df.to_csv('channels_sample_10k.csv'.format(sample_size))\n",
    "channels_df.head()"
   ]
  },
  {
   "cell_type": "code",
   "execution_count": 27,
   "metadata": {},
   "outputs": [
    {
     "data": {
      "text/plain": [
       "bio                                 object\n",
       "broadcaster_language                object\n",
       "broadcaster_software                object\n",
       "broadcaster_type                    object\n",
       "created_at                          object\n",
       "description                         object\n",
       "distribution                        object\n",
       "followers                            int64\n",
       "follows                             object\n",
       "game                                object\n",
       "id                                  object\n",
       "language                            object\n",
       "logo                                object\n",
       "mature                                bool\n",
       "name                                object\n",
       "num_follows                        float64\n",
       "partner                               bool\n",
       "privacy_options_enabled               bool\n",
       "private_video                         bool\n",
       "profile_banner                      object\n",
       "profile_banner_background_color     object\n",
       "status                              object\n",
       "type                                object\n",
       "updated_at                          object\n",
       "url                                 object\n",
       "video_banner                        object\n",
       "views                                int64\n",
       "dtype: object"
      ]
     },
     "execution_count": 27,
     "metadata": {},
     "output_type": "execute_result"
    }
   ],
   "source": [
    "channels_df.dtypes"
   ]
  },
  {
   "cell_type": "code",
   "execution_count": 28,
   "metadata": {},
   "outputs": [
    {
     "data": {
      "text/plain": [
       "(5320, 27)"
      ]
     },
     "execution_count": 28,
     "metadata": {},
     "output_type": "execute_result"
    }
   ],
   "source": [
    "channels_df.shape"
   ]
  },
  {
   "cell_type": "code",
   "execution_count": null,
   "metadata": {
    "collapsed": true
   },
   "outputs": [],
   "source": []
  }
 ],
 "metadata": {
  "kernelspec": {
   "display_name": "Python 3",
   "language": "python",
   "name": "python3"
  },
  "language_info": {
   "codemirror_mode": {
    "name": "ipython",
    "version": 3
   },
   "file_extension": ".py",
   "mimetype": "text/x-python",
   "name": "python",
   "nbconvert_exporter": "python",
   "pygments_lexer": "ipython3",
   "version": "3.6.3"
  }
 },
 "nbformat": 4,
 "nbformat_minor": 2
}
